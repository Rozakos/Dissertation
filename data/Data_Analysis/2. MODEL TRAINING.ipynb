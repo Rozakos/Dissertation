{
 "cells": [
  {
   "attachments": {},
   "cell_type": "markdown",
   "id": "92e48866",
   "metadata": {},
   "source": [
    "## Model Training"
   ]
  },
  {
   "cell_type": "markdown",
   "id": "25791a74",
   "metadata": {},
   "source": [
    "#### 1.1 Import Data and Required Packages\n",
    "##### Importing Pandas, Numpy, Matplotlib, Seaborn and Warings Library."
   ]
  },
  {
   "cell_type": "code",
   "execution_count": 2,
   "id": "b080dfb2",
   "metadata": {
    "ExecuteTime": {
     "end_time": "2024-01-15T20:06:40.260060200Z",
     "start_time": "2024-01-15T20:06:39.314578700Z"
    }
   },
   "outputs": [],
   "source": [
    "import numpy as np\n",
    "import pandas as pd\n",
    "import matplotlib.pyplot as plt \n",
    "import seaborn as sns\n",
    "from sklearn.metrics import mean_squared_error, r2_score\n",
    "from sklearn.neighbors import KNeighborsRegressor\n",
    "from sklearn.tree import DecisionTreeRegressor\n",
    "from sklearn.ensemble import RandomForestRegressor,AdaBoostRegressor\n",
    "from sklearn.svm import SVR\n",
    "from sklearn.linear_model import LinearRegression, Ridge,Lasso\n",
    "from sklearn.metrics import r2_score, mean_absolute_error, mean_squared_error\n",
    "from sklearn.model_selection import RandomizedSearchCV\n",
    "from catboost import CatBoostRegressor\n",
    "from xgboost import XGBRegressor\n",
    "from sklearn.preprocessing import OneHotEncoder, StandardScaler\n",
    "from sklearn.compose import ColumnTransformer\n",
    "from sklearn.model_selection import train_test_split\n",
    "from sklearn.metrics import mean_absolute_error, mean_squared_error, r2_score\n",
    "import numpy as np\n",
    "import warnings"
   ]
  },
  {
   "cell_type": "markdown",
   "id": "e45079ad",
   "metadata": {},
   "source": []
  },
  {
   "cell_type": "code",
   "execution_count": 3,
   "id": "e11c6255",
   "metadata": {
    "ExecuteTime": {
     "end_time": "2024-01-15T20:06:40.276063700Z",
     "start_time": "2024-01-15T20:06:40.261059700Z"
    }
   },
   "outputs": [],
   "source": [
    "df = pd.read_csv('StudentsPerformanceData.csv')"
   ]
  },
  {
   "cell_type": "markdown",
   "id": "20634923",
   "metadata": {},
   "source": []
  },
  {
   "cell_type": "code",
   "execution_count": 4,
   "id": "e7e412a2",
   "metadata": {
    "ExecuteTime": {
     "end_time": "2024-01-15T20:06:40.305071Z",
     "start_time": "2024-01-15T20:06:40.277063400Z"
    }
   },
   "outputs": [
    {
     "data": {
      "text/plain": "   gender race_ethnicity parental_level_of_education         lunch  \\\n0  female        group B           bachelor's degree      standard   \n1  female        group C                some college      standard   \n2  female        group B             master's degree      standard   \n3    male        group A          associate's degree  free/reduced   \n4    male        group C                some college      standard   \n\n  test_preparation_course  math_score  reading_score  writing_score  \n0                    none          72             72             74  \n1               completed          69             90             88  \n2                    none          90             95             93  \n3                    none          47             57             44  \n4                    none          76             78             75  ",
      "text/html": "<div>\n<style scoped>\n    .dataframe tbody tr th:only-of-type {\n        vertical-align: middle;\n    }\n\n    .dataframe tbody tr th {\n        vertical-align: top;\n    }\n\n    .dataframe thead th {\n        text-align: right;\n    }\n</style>\n<table border=\"1\" class=\"dataframe\">\n  <thead>\n    <tr style=\"text-align: right;\">\n      <th></th>\n      <th>gender</th>\n      <th>race_ethnicity</th>\n      <th>parental_level_of_education</th>\n      <th>lunch</th>\n      <th>test_preparation_course</th>\n      <th>math_score</th>\n      <th>reading_score</th>\n      <th>writing_score</th>\n    </tr>\n  </thead>\n  <tbody>\n    <tr>\n      <th>0</th>\n      <td>female</td>\n      <td>group B</td>\n      <td>bachelor's degree</td>\n      <td>standard</td>\n      <td>none</td>\n      <td>72</td>\n      <td>72</td>\n      <td>74</td>\n    </tr>\n    <tr>\n      <th>1</th>\n      <td>female</td>\n      <td>group C</td>\n      <td>some college</td>\n      <td>standard</td>\n      <td>completed</td>\n      <td>69</td>\n      <td>90</td>\n      <td>88</td>\n    </tr>\n    <tr>\n      <th>2</th>\n      <td>female</td>\n      <td>group B</td>\n      <td>master's degree</td>\n      <td>standard</td>\n      <td>none</td>\n      <td>90</td>\n      <td>95</td>\n      <td>93</td>\n    </tr>\n    <tr>\n      <th>3</th>\n      <td>male</td>\n      <td>group A</td>\n      <td>associate's degree</td>\n      <td>free/reduced</td>\n      <td>none</td>\n      <td>47</td>\n      <td>57</td>\n      <td>44</td>\n    </tr>\n    <tr>\n      <th>4</th>\n      <td>male</td>\n      <td>group C</td>\n      <td>some college</td>\n      <td>standard</td>\n      <td>none</td>\n      <td>76</td>\n      <td>78</td>\n      <td>75</td>\n    </tr>\n  </tbody>\n</table>\n</div>"
     },
     "execution_count": 4,
     "metadata": {},
     "output_type": "execute_result"
    }
   ],
   "source": [
    "df.head()"
   ]
  },
  {
   "cell_type": "markdown",
   "id": "fbd32281",
   "metadata": {},
   "source": [
    "####  X and Y variable preparation"
   ]
  },
  {
   "cell_type": "code",
   "execution_count": 5,
   "id": "56d72fde",
   "metadata": {
    "ExecuteTime": {
     "end_time": "2024-01-15T20:06:40.322074400Z",
     "start_time": "2024-01-15T20:06:40.292067Z"
    }
   },
   "outputs": [],
   "source": [
    "X = df.drop(columns=['math_score'],axis=1)"
   ]
  },
  {
   "cell_type": "code",
   "execution_count": 6,
   "id": "cd613177",
   "metadata": {
    "ExecuteTime": {
     "end_time": "2024-01-15T20:06:40.363084Z",
     "start_time": "2024-01-15T20:06:40.310071Z"
    }
   },
   "outputs": [
    {
     "data": {
      "text/plain": "   gender race_ethnicity parental_level_of_education         lunch  \\\n0  female        group B           bachelor's degree      standard   \n1  female        group C                some college      standard   \n2  female        group B             master's degree      standard   \n3    male        group A          associate's degree  free/reduced   \n4    male        group C                some college      standard   \n\n  test_preparation_course  reading_score  writing_score  \n0                    none             72             74  \n1               completed             90             88  \n2                    none             95             93  \n3                    none             57             44  \n4                    none             78             75  ",
      "text/html": "<div>\n<style scoped>\n    .dataframe tbody tr th:only-of-type {\n        vertical-align: middle;\n    }\n\n    .dataframe tbody tr th {\n        vertical-align: top;\n    }\n\n    .dataframe thead th {\n        text-align: right;\n    }\n</style>\n<table border=\"1\" class=\"dataframe\">\n  <thead>\n    <tr style=\"text-align: right;\">\n      <th></th>\n      <th>gender</th>\n      <th>race_ethnicity</th>\n      <th>parental_level_of_education</th>\n      <th>lunch</th>\n      <th>test_preparation_course</th>\n      <th>reading_score</th>\n      <th>writing_score</th>\n    </tr>\n  </thead>\n  <tbody>\n    <tr>\n      <th>0</th>\n      <td>female</td>\n      <td>group B</td>\n      <td>bachelor's degree</td>\n      <td>standard</td>\n      <td>none</td>\n      <td>72</td>\n      <td>74</td>\n    </tr>\n    <tr>\n      <th>1</th>\n      <td>female</td>\n      <td>group C</td>\n      <td>some college</td>\n      <td>standard</td>\n      <td>completed</td>\n      <td>90</td>\n      <td>88</td>\n    </tr>\n    <tr>\n      <th>2</th>\n      <td>female</td>\n      <td>group B</td>\n      <td>master's degree</td>\n      <td>standard</td>\n      <td>none</td>\n      <td>95</td>\n      <td>93</td>\n    </tr>\n    <tr>\n      <th>3</th>\n      <td>male</td>\n      <td>group A</td>\n      <td>associate's degree</td>\n      <td>free/reduced</td>\n      <td>none</td>\n      <td>57</td>\n      <td>44</td>\n    </tr>\n    <tr>\n      <th>4</th>\n      <td>male</td>\n      <td>group C</td>\n      <td>some college</td>\n      <td>standard</td>\n      <td>none</td>\n      <td>78</td>\n      <td>75</td>\n    </tr>\n  </tbody>\n</table>\n</div>"
     },
     "execution_count": 6,
     "metadata": {},
     "output_type": "execute_result"
    }
   ],
   "source": [
    "X.head()"
   ]
  },
  {
   "cell_type": "code",
   "execution_count": 7,
   "id": "f237ea14",
   "metadata": {
    "ExecuteTime": {
     "end_time": "2024-01-15T20:06:40.363084Z",
     "start_time": "2024-01-15T20:06:40.325074400Z"
    }
   },
   "outputs": [
    {
     "name": "stdout",
     "output_type": "stream",
     "text": [
      "Categories in 'gender' variable:                             ['female' 'male']\n",
      "Categories in 'race_ethnicity' variable:                     ['group B' 'group C' 'group A' 'group D' 'group E']\n",
      "Categories in 'parental level of education' variable:        [\"bachelor's degree\" 'some college' \"master's degree\" \"associate's degree\"\n",
      " 'high school' 'some high school']\n",
      "Categories in 'lunch' variable:                              ['standard' 'free/reduced']\n",
      "Categories in 'test preparation course' variable:            ['none' 'completed']\n"
     ]
    }
   ],
   "source": [
    "variables = [\n",
    "    (\"gender\", \"Categories in 'gender' variable:\"),\n",
    "    (\"race_ethnicity\", \"Categories in 'race_ethnicity' variable:\"),\n",
    "    (\"parental_level_of_education\", \"Categories in 'parental level of education' variable:\"),\n",
    "    (\"lunch\", \"Categories in 'lunch' variable:\"),\n",
    "    (\"test_preparation_course\", \"Categories in 'test preparation course' variable:\")\n",
    "]\n",
    "\n",
    "for column, message in variables:\n",
    "    print(f\"{message:<60} {df[column].unique()}\")\n"
   ]
  },
  {
   "cell_type": "code",
   "execution_count": 8,
   "id": "924b7f9d",
   "metadata": {
    "ExecuteTime": {
     "end_time": "2024-01-15T20:06:40.364085Z",
     "start_time": "2024-01-15T20:06:40.341079100Z"
    }
   },
   "outputs": [],
   "source": [
    "y = df['math_score']"
   ]
  },
  {
   "cell_type": "code",
   "execution_count": 9,
   "id": "ffc69816",
   "metadata": {
    "ExecuteTime": {
     "end_time": "2024-01-15T20:06:40.412095300Z",
     "start_time": "2024-01-15T20:06:40.357081700Z"
    }
   },
   "outputs": [
    {
     "data": {
      "text/plain": "0      72\n1      69\n2      90\n3      47\n4      76\n       ..\n995    88\n996    62\n997    59\n998    68\n999    77\nName: math_score, Length: 1000, dtype: int64"
     },
     "execution_count": 9,
     "metadata": {},
     "output_type": "execute_result"
    }
   ],
   "source": [
    "y"
   ]
  },
  {
   "cell_type": "code",
   "execution_count": 10,
   "id": "1e290fe3",
   "metadata": {
    "ExecuteTime": {
     "end_time": "2024-01-15T20:06:40.442101300Z",
     "start_time": "2024-01-15T20:06:40.373086600Z"
    }
   },
   "outputs": [],
   "source": [
    "# Identifying feature types based on their data type\n",
    "numerical_features = X.select_dtypes(exclude=\"object\").columns\n",
    "categorical_features = X.select_dtypes(include=\"object\").columns\n",
    "\n",
    "# Defining the transformers\n",
    "numeric_transform = (\"StandardScaler\", StandardScaler(), numerical_features)\n",
    "categorical_transform = (\"OneHotEncoder\", OneHotEncoder(), categorical_features)\n",
    "\n",
    "# Building the ColumnTransformer\n",
    "transformers_list = [categorical_transform, numeric_transform]\n",
    "preprocessor = ColumnTransformer(transformers_list)\n"
   ]
  },
  {
   "cell_type": "code",
   "execution_count": 11,
   "id": "9c68f99a",
   "metadata": {
    "ExecuteTime": {
     "end_time": "2024-01-15T20:06:40.443102Z",
     "start_time": "2024-01-15T20:06:40.389089200Z"
    }
   },
   "outputs": [],
   "source": [
    "X = preprocessor.fit_transform(X)"
   ]
  },
  {
   "cell_type": "code",
   "execution_count": 12,
   "id": "72459f1d",
   "metadata": {
    "ExecuteTime": {
     "end_time": "2024-01-15T20:06:40.445102600Z",
     "start_time": "2024-01-15T20:06:40.405092500Z"
    }
   },
   "outputs": [
    {
     "data": {
      "text/plain": "(1000, 19)"
     },
     "execution_count": 12,
     "metadata": {},
     "output_type": "execute_result"
    }
   ],
   "source": [
    "X.shape"
   ]
  },
  {
   "cell_type": "code",
   "execution_count": 13,
   "id": "ed5c4e99",
   "metadata": {
    "ExecuteTime": {
     "end_time": "2024-01-15T20:06:40.446102500Z",
     "start_time": "2024-01-15T20:06:40.420097600Z"
    }
   },
   "outputs": [
    {
     "data": {
      "text/plain": "((800, 19), (200, 19))"
     },
     "execution_count": 13,
     "metadata": {},
     "output_type": "execute_result"
    }
   ],
   "source": [
    "\n",
    "# Splitting the dataset into training and testing sets\n",
    "split_params = {\n",
    "    'test_size': 0.2,\n",
    "    'random_state': 42\n",
    "}\n",
    "X_train, X_test, y_train, y_test = train_test_split(X, y, **split_params)\n",
    "\n",
    "# Displaying the shapes of the train and test sets\n",
    "X_train.shape, X_test.shape\n"
   ]
  },
  {
   "cell_type": "markdown",
   "id": "4cd80317",
   "metadata": {},
   "source": [
    "#### Define a function to provide all evaluation metrics post model training."
   ]
  },
  {
   "cell_type": "code",
   "execution_count": 14,
   "id": "79ccb8e7",
   "metadata": {
    "scrolled": false,
    "ExecuteTime": {
     "end_time": "2024-01-15T20:06:42.134449200Z",
     "start_time": "2024-01-15T20:06:40.439101300Z"
    }
   },
   "outputs": [
    {
     "name": "stdout",
     "output_type": "stream",
     "text": [
      "Linear Regression\n",
      "Model performance for Training set\n",
      "- Root Mean Squared Error: 5.3244\n",
      "- Mean Absolute Error: 4.2671\n",
      "- R2 Score: 0.8743\n",
      "----------------------------------\n",
      "Model performance for Test set\n",
      "- Root Mean Squared Error: 5.3960\n",
      "- Mean Absolute Error: 4.2158\n",
      "- R2 Score: 0.8803\n",
      "===================================\n",
      "\n",
      "\n",
      "Lasso\n",
      "Model performance for Training set\n",
      "- Root Mean Squared Error: 6.5938\n",
      "- Mean Absolute Error: 5.2063\n",
      "- R2 Score: 0.8071\n",
      "----------------------------------\n",
      "Model performance for Test set\n",
      "- Root Mean Squared Error: 6.5197\n",
      "- Mean Absolute Error: 5.1579\n",
      "- R2 Score: 0.8253\n",
      "===================================\n",
      "\n",
      "\n",
      "Ridge\n",
      "Model performance for Training set\n",
      "- Root Mean Squared Error: 5.3233\n",
      "- Mean Absolute Error: 4.2650\n",
      "- R2 Score: 0.8743\n",
      "----------------------------------\n",
      "Model performance for Test set\n",
      "- Root Mean Squared Error: 5.3904\n",
      "- Mean Absolute Error: 4.2111\n",
      "- R2 Score: 0.8806\n",
      "===================================\n",
      "\n",
      "K-Neighbors Regressor\n",
      "Model performance for Training set\n",
      "- Root Mean Squared Error: 5.7077\n",
      "- Mean Absolute Error: 4.5167\n",
      "- R2 Score: 0.8555\n",
      "----------------------------------\n",
      "Model performance for Test set\n",
      "- Root Mean Squared Error: 7.2530\n",
      "- Mean Absolute Error: 5.6210\n",
      "- R2 Score: 0.7838\n",
      "===================================\n",
      "\n",
      "\n",
      "Decision Tree\n",
      "Model performance for Training set\n",
      "- Root Mean Squared Error: 0.2795\n",
      "- Mean Absolute Error: 0.0187\n",
      "- R2 Score: 0.9997\n",
      "----------------------------------\n",
      "Model performance for Test set\n",
      "- Root Mean Squared Error: 8.0709\n",
      "- Mean Absolute Error: 6.3900\n",
      "- R2 Score: 0.7323\n",
      "===================================\n",
      "\n",
      "Random Forest Regressor\n",
      "Model performance for Training set\n",
      "- Root Mean Squared Error: 2.2987\n",
      "- Mean Absolute Error: 1.8247\n",
      "- R2 Score: 0.9766\n",
      "----------------------------------\n",
      "Model performance for Test set\n",
      "- Root Mean Squared Error: 5.9381\n",
      "- Mean Absolute Error: 4.5868\n",
      "- R2 Score: 0.8551\n",
      "===================================\n",
      "\n",
      "\n",
      "XGBRegressor\n",
      "Model performance for Training set\n",
      "- Root Mean Squared Error: 1.0073\n",
      "- Mean Absolute Error: 0.6875\n",
      "- R2 Score: 0.9955\n",
      "----------------------------------\n",
      "Model performance for Test set\n",
      "- Root Mean Squared Error: 6.4733\n",
      "- Mean Absolute Error: 5.0577\n",
      "- R2 Score: 0.8278\n",
      "===================================\n",
      "\n",
      "CatBoosting Regressor\n",
      "Model performance for Training set\n",
      "- Root Mean Squared Error: 3.0427\n",
      "- Mean Absolute Error: 2.4054\n",
      "- R2 Score: 0.9589\n",
      "----------------------------------\n",
      "Model performance for Test set\n",
      "- Root Mean Squared Error: 6.0086\n",
      "- Mean Absolute Error: 4.6125\n",
      "- R2 Score: 0.8516\n",
      "===================================\n",
      "\n",
      "\n",
      "AdaBoost Regressor\n",
      "Model performance for Training set\n",
      "- Root Mean Squared Error: 5.8336\n",
      "- Mean Absolute Error: 4.7884\n",
      "- R2 Score: 0.8491\n",
      "----------------------------------\n",
      "Model performance for Test set\n",
      "- Root Mean Squared Error: 6.1748\n",
      "- Mean Absolute Error: 4.7999\n",
      "- R2 Score: 0.8433\n",
      "===================================\n",
      "\n"
     ]
    }
   ],
   "source": [
    "# Evaluation function\n",
    "def evaluate(true_values, predicted_values):\n",
    "    # Calculate Mean Absolute Error (MAE)\n",
    "    mae_val = mean_absolute_error(true_values, predicted_values)\n",
    "    \n",
    "    # Calculate Mean Squared Error (MSE)\n",
    "    mse_val = mean_squared_error(true_values, predicted_values)\n",
    "    \n",
    "    # Calculate Root Mean Squared Error (RMSE)\n",
    "    rmse_val = np.sqrt(mse_val)\n",
    "    \n",
    "    # Calculate R-squared (R2) score\n",
    "    r2_val = r2_score(true_values, predicted_values)\n",
    "    \n",
    "    # Return evaluation metrics\n",
    "    return mae_val, rmse_val, r2_val\n",
    "\n",
    "# Dictionary of regression models\n",
    "regressors = {\n",
    "    \"Linear Regression\": LinearRegression(),\n",
    "    \"Lasso\": Lasso(),\n",
    "    \"Ridge\": Ridge(),\n",
    "    \"K-Neighbors Regressor\": KNeighborsRegressor(),\n",
    "    \"Decision Tree\": DecisionTreeRegressor(),\n",
    "    \"Random Forest Regressor\": RandomForestRegressor(),\n",
    "    \"XGBRegressor\": XGBRegressor(), \n",
    "    \"CatBoosting Regressor\": CatBoostRegressor(verbose=False),\n",
    "    \"AdaBoost Regressor\": AdaBoostRegressor()\n",
    "}\n",
    "\n",
    "# Lists to store model names and R-squared scores\n",
    "model_names = []\n",
    "r2_scores = []\n",
    "\n",
    "# Iterate through, train, predict, and evaluate models\n",
    "for name, model in regressors.items():\n",
    "    # Train the model on the training data\n",
    "    model.fit(X_train, y_train)\n",
    "\n",
    "    # Predict on both training and test data\n",
    "    y_preds_train = model.predict(X_train)\n",
    "    y_preds_test = model.predict(X_test)\n",
    "\n",
    "    # Evaluate the model using the evaluation function\n",
    "    train_mae, train_rmse, train_r2 = evaluate(y_train, y_preds_train)\n",
    "    test_mae, test_rmse, test_r2 = evaluate(y_test, y_preds_test)\n",
    "    \n",
    "    # Display results for the current model\n",
    "    print(name)\n",
    "    model_names.append(name)\n",
    "    \n",
    "    # Training set performance\n",
    "    print('Model performance for Training set')\n",
    "    print(f\"- Root Mean Squared Error: {train_rmse:.4f}\")\n",
    "    print(f\"- Mean Absolute Error: {train_mae:.4f}\")\n",
    "    print(f\"- R2 Score: {train_r2:.4f}\")\n",
    "    \n",
    "    # Test set performance\n",
    "    print('----------------------------------')\n",
    "    print('Model performance for Test set')\n",
    "    print(f\"- Root Mean Squared Error: {test_rmse:.4f}\")\n",
    "    print(f\"- Mean Absolute Error: {test_mae:.4f}\")\n",
    "    print(f\"- R2 Score: {test_r2:.4f}\")\n",
    "    \n",
    "    # Append the R2 score to the list\n",
    "    r2_scores.append(test_r2)\n",
    "    \n",
    "    print('='*35)\n",
    "    print('\\n')\n"
   ]
  },
  {
   "cell_type": "markdown",
   "id": "06480b5a",
   "metadata": {},
   "source": [
    "### Results"
   ]
  },
  {
   "cell_type": "code",
   "execution_count": 15,
   "id": "e0159e5f",
   "metadata": {
    "ExecuteTime": {
     "end_time": "2024-01-15T20:06:42.159455900Z",
     "start_time": "2024-01-15T20:06:42.136450800Z"
    }
   },
   "outputs": [
    {
     "data": {
      "text/plain": "                     Model  R^2 Score\n2                    Ridge   0.880593\n0        Linear Regression   0.880345\n5  Random Forest Regressor   0.855096\n7    CatBoosting Regressor   0.851632\n8       AdaBoost Regressor   0.843313\n6             XGBRegressor   0.827797\n1                    Lasso   0.825320\n3    K-Neighbors Regressor   0.783813\n4            Decision Tree   0.732307",
      "text/html": "<div>\n<style scoped>\n    .dataframe tbody tr th:only-of-type {\n        vertical-align: middle;\n    }\n\n    .dataframe tbody tr th {\n        vertical-align: top;\n    }\n\n    .dataframe thead th {\n        text-align: right;\n    }\n</style>\n<table border=\"1\" class=\"dataframe\">\n  <thead>\n    <tr style=\"text-align: right;\">\n      <th></th>\n      <th>Model</th>\n      <th>R^2 Score</th>\n    </tr>\n  </thead>\n  <tbody>\n    <tr>\n      <th>2</th>\n      <td>Ridge</td>\n      <td>0.880593</td>\n    </tr>\n    <tr>\n      <th>0</th>\n      <td>Linear Regression</td>\n      <td>0.880345</td>\n    </tr>\n    <tr>\n      <th>5</th>\n      <td>Random Forest Regressor</td>\n      <td>0.855096</td>\n    </tr>\n    <tr>\n      <th>7</th>\n      <td>CatBoosting Regressor</td>\n      <td>0.851632</td>\n    </tr>\n    <tr>\n      <th>8</th>\n      <td>AdaBoost Regressor</td>\n      <td>0.843313</td>\n    </tr>\n    <tr>\n      <th>6</th>\n      <td>XGBRegressor</td>\n      <td>0.827797</td>\n    </tr>\n    <tr>\n      <th>1</th>\n      <td>Lasso</td>\n      <td>0.825320</td>\n    </tr>\n    <tr>\n      <th>3</th>\n      <td>K-Neighbors Regressor</td>\n      <td>0.783813</td>\n    </tr>\n    <tr>\n      <th>4</th>\n      <td>Decision Tree</td>\n      <td>0.732307</td>\n    </tr>\n  </tbody>\n</table>\n</div>"
     },
     "execution_count": 15,
     "metadata": {},
     "output_type": "execute_result"
    }
   ],
   "source": [
    "pd.DataFrame(list(zip(model_names, r2_scores)), columns=['Model', 'R^2 Score']).sort_values(by=\"R^2 Score\", ascending=False)"
   ]
  },
  {
   "cell_type": "markdown",
   "id": "357a7c1c",
   "metadata": {},
   "source": [
    "## Linear Regression"
   ]
  },
  {
   "cell_type": "code",
   "execution_count": 16,
   "id": "9a6ad559",
   "metadata": {
    "ExecuteTime": {
     "end_time": "2024-01-15T20:06:43.642385800Z",
     "start_time": "2024-01-15T20:06:42.154454Z"
    }
   },
   "outputs": [
    {
     "name": "stdout",
     "output_type": "stream",
     "text": [
      "Linear Regression\n",
      "Model performance for Training set\n",
      "- Root Mean Squared Error: 5.3244\n",
      "- Mean Absolute Error: 4.2671\n",
      "- R2 Score: 0.8743\n",
      "----------------------------------\n",
      "Model performance for Test set\n",
      "- Root Mean Squared Error: 5.3960\n",
      "- Mean Absolute Error: 4.2158\n",
      "- R2 Score: 0.8803\n",
      "===================================\n",
      "\n",
      "\n",
      "Lasso\n",
      "Model performance for Training set\n",
      "- Root Mean Squared Error: 6.5938\n",
      "- Mean Absolute Error: 5.2063\n",
      "- R2 Score: 0.8071\n",
      "----------------------------------\n",
      "Model performance for Test set\n",
      "- Root Mean Squared Error: 6.5197\n",
      "- Mean Absolute Error: 5.1579\n",
      "- R2 Score: 0.8253\n",
      "===================================\n",
      "\n",
      "\n",
      "Ridge\n",
      "Model performance for Training set\n",
      "- Root Mean Squared Error: 5.3233\n",
      "- Mean Absolute Error: 4.2650\n",
      "- R2 Score: 0.8743\n",
      "----------------------------------\n",
      "Model performance for Test set\n",
      "- Root Mean Squared Error: 5.3904\n",
      "- Mean Absolute Error: 4.2111\n",
      "- R2 Score: 0.8806\n",
      "===================================\n",
      "\n",
      "\n",
      "K-Neighbors Regressor\n",
      "Model performance for Training set\n",
      "- Root Mean Squared Error: 5.7077\n",
      "- Mean Absolute Error: 4.5167\n",
      "- R2 Score: 0.8555\n",
      "----------------------------------\n",
      "Model performance for Test set\n",
      "- Root Mean Squared Error: 7.2530\n",
      "- Mean Absolute Error: 5.6210\n",
      "- R2 Score: 0.7838\n",
      "===================================\n",
      "\n",
      "\n",
      "Decision Tree\n",
      "Model performance for Training set\n",
      "- Root Mean Squared Error: 0.2795\n",
      "- Mean Absolute Error: 0.0187\n",
      "- R2 Score: 0.9997\n",
      "----------------------------------\n",
      "Model performance for Test set\n",
      "- Root Mean Squared Error: 7.8845\n",
      "- Mean Absolute Error: 6.1950\n",
      "- R2 Score: 0.7445\n",
      "===================================\n",
      "\n",
      "Random Forest Regressor\n",
      "Model performance for Training set\n",
      "- Root Mean Squared Error: 2.2983\n",
      "- Mean Absolute Error: 1.8435\n",
      "- R2 Score: 0.9766\n",
      "----------------------------------\n",
      "Model performance for Test set\n",
      "- Root Mean Squared Error: 5.9698\n",
      "- Mean Absolute Error: 4.6599\n",
      "- R2 Score: 0.8535\n",
      "===================================\n",
      "\n",
      "\n",
      "XGBRegressor\n",
      "Model performance for Training set\n",
      "- Root Mean Squared Error: 1.0073\n",
      "- Mean Absolute Error: 0.6875\n",
      "- R2 Score: 0.9955\n",
      "----------------------------------\n",
      "Model performance for Test set\n",
      "- Root Mean Squared Error: 6.4733\n",
      "- Mean Absolute Error: 5.0577\n",
      "- R2 Score: 0.8278\n",
      "===================================\n",
      "\n",
      "CatBoosting Regressor\n",
      "Model performance for Training set\n",
      "- Root Mean Squared Error: 3.0427\n",
      "- Mean Absolute Error: 2.4054\n",
      "- R2 Score: 0.9589\n",
      "----------------------------------\n",
      "Model performance for Test set\n",
      "- Root Mean Squared Error: 6.0086\n",
      "- Mean Absolute Error: 4.6125\n",
      "- R2 Score: 0.8516\n",
      "===================================\n",
      "\n",
      "\n",
      "AdaBoost Regressor\n",
      "Model performance for Training set\n",
      "- Root Mean Squared Error: 5.8206\n",
      "- Mean Absolute Error: 4.7388\n",
      "- R2 Score: 0.8497\n",
      "----------------------------------\n",
      "Model performance for Test set\n",
      "- Root Mean Squared Error: 6.0205\n",
      "- Mean Absolute Error: 4.6947\n",
      "- R2 Score: 0.8510\n",
      "===================================\n"
     ]
    }
   ],
   "source": [
    "# Evaluation function\n",
    "def evaluate(true_values, predicted_values):\n",
    "    # Calculate Mean Absolute Error (MAE)\n",
    "    mae_val = mean_absolute_error(true_values, predicted_values)\n",
    "    \n",
    "    # Calculate Mean Squared Error (MSE)\n",
    "    mse_val = mean_squared_error(true_values, predicted_values)\n",
    "    \n",
    "    # Calculate Root Mean Squared Error (RMSE)\n",
    "    rmse_val = np.sqrt(mse_val)\n",
    "    \n",
    "    # Calculate R-squared (R2) score\n",
    "    r2_val = r2_score(true_values, predicted_values)\n",
    "    \n",
    "    # Return evaluation metrics\n",
    "    return mae_val, rmse_val, r2_val\n",
    "\n",
    "# Dictionary of regression models\n",
    "regressors = {\n",
    "    \"Linear Regression\": LinearRegression(),\n",
    "    \"Lasso\": Lasso(),\n",
    "    \"Ridge\": Ridge(),\n",
    "    \"K-Neighbors Regressor\": KNeighborsRegressor(),\n",
    "    \"Decision Tree\": DecisionTreeRegressor(),\n",
    "    \"Random Forest Regressor\": RandomForestRegressor(),\n",
    "    \"XGBRegressor\": XGBRegressor(), \n",
    "    \"CatBoosting Regressor\": CatBoostRegressor(verbose=False),\n",
    "    \"AdaBoost Regressor\": AdaBoostRegressor()\n",
    "}\n",
    "\n",
    "# Lists to store model names and R-squared scores\n",
    "model_names = []\n",
    "r2_scores = []\n",
    "\n",
    "# Iterate through, train, predict, and evaluate models\n",
    "for name, model in regressors.items():\n",
    "    # Train the model on the training data\n",
    "    model.fit(X_train, y_train)\n",
    "\n",
    "    # Predict on both training and test data\n",
    "    y_preds_train = model.predict(X_train)\n",
    "    y_preds_test = model.predict(X_test)\n",
    "\n",
    "    # Evaluate the model using the evaluation function\n",
    "    train_mae, train_rmse, train_r2 = evaluate(y_train, y_preds_train)\n",
    "    test_mae, test_rmse, test_r2 = evaluate(y_test, y_preds_test)\n",
    "    \n",
    "    # Display results for the current model\n",
    "    print(name)\n",
    "    model_names.append(name)\n",
    "    \n",
    "    # Training set performance\n",
    "    print('Model performance for Training set')\n",
    "    print(f\"- Root Mean Squared Error: {train_rmse:.4f}\")\n",
    "    print(f\"- Mean Absolute Error: {train_mae:.4f}\")\n",
    "    print(f\"- R2 Score: {train_r2:.4f}\")\n",
    "    \n",
    "    # Test set performance\n",
    "    print('----------------------------------')\n",
    "    print('Model performance for Test set')\n",
    "    print(f\"- Root Mean Squared Error: {test_rmse:.4f}\")\n",
    "    print(f\"- Mean Absolute Error: {test_mae:.4f}\")\n",
    "    print(f\"- R2 Score: {test_r2:.4f}\")\n",
    "    \n",
    "    # Append the R2 score to the list\n",
    "    r2_scores.append(test_r2)\n",
    "    \n",
    "    print('='*35)\n",
    "    print('\\n')\n"
   ]
  },
  {
   "cell_type": "markdown",
   "id": "1d31453e",
   "metadata": {},
   "source": [
    "## ## Visualize predicted vs actual values\n"
   ]
  },
  {
   "cell_type": "code",
   "execution_count": 18,
   "id": "eb557b0a",
   "metadata": {
    "ExecuteTime": {
     "end_time": "2024-01-15T20:07:13.683687800Z",
     "start_time": "2024-01-15T20:07:13.508644800Z"
    }
   },
   "outputs": [
    {
     "data": {
      "text/plain": "<Figure size 640x480 with 1 Axes>",
      "image/png": "[encoded data removed]"
     },
     "metadata": {},
     "output_type": "display_data"
    }
   ],
   "source": [
    "# Scatter plot to visualize actual vs. predicted values\n",
    "plt.scatter(y_test, y_preds_test)  # Use 'y_preds_test' instead of 'y_pred'\n",
    "plt.xlabel('Actual Values')\n",
    "plt.ylabel('Predicted Values')\n",
    "plt.title('Actual vs Predicted')\n",
    "plt.show()\n"
   ]
  },
  {
   "cell_type": "code",
   "execution_count": 20,
   "id": "1e707ec3",
   "metadata": {
    "ExecuteTime": {
     "end_time": "2024-01-15T20:07:35.722613Z",
     "start_time": "2024-01-15T20:07:35.547573200Z"
    }
   },
   "outputs": [
    {
     "data": {
      "text/plain": "<Figure size 640x480 with 1 Axes>",
      "image/png": "[encoded data removed]"
     },
     "metadata": {},
     "output_type": "display_data"
    }
   ],
   "source": [
    "# Scatter plot to visualize actual vs. predicted values\n",
    "plt.scatter(y_test, y_preds_test)\n",
    "plt.xlabel('Actual Values')\n",
    "plt.ylabel('Predicted Values')\n",
    "plt.title('Actual vs Predicted')\n",
    "plt.show()\n"
   ]
  },
  {
   "cell_type": "markdown",
   "id": "79c2fe28",
   "metadata": {},
   "source": [
    "#### Difference between Actual and Predicted Values"
   ]
  },
  {
   "cell_type": "code",
   "execution_count": 22,
   "id": "7c9a8b48",
   "metadata": {
    "ExecuteTime": {
     "end_time": "2024-01-15T20:08:04.642395900Z",
     "start_time": "2024-01-15T20:08:04.626392600Z"
    }
   },
   "outputs": [
    {
     "data": {
      "text/plain": "     Actual Value  Predicted Value  Difference\n521            91        75.768041   15.231959\n737            53        56.969466   -3.969466\n740            80        77.722222    2.277778\n660            74        77.686275   -3.686275\n411            84        84.329787   -0.329787\n..            ...              ...         ...\n408            52        48.107639    3.892361\n332            62        56.073171    5.926829\n208            74        67.917949    6.082051\n613            65        67.917949   -2.917949\n78             61        67.534483   -6.534483\n\n[200 rows x 3 columns]",
      "text/html": "<div>\n<style scoped>\n    .dataframe tbody tr th:only-of-type {\n        vertical-align: middle;\n    }\n\n    .dataframe tbody tr th {\n        vertical-align: top;\n    }\n\n    .dataframe thead th {\n        text-align: right;\n    }\n</style>\n<table border=\"1\" class=\"dataframe\">\n  <thead>\n    <tr style=\"text-align: right;\">\n      <th></th>\n      <th>Actual Value</th>\n      <th>Predicted Value</th>\n      <th>Difference</th>\n    </tr>\n  </thead>\n  <tbody>\n    <tr>\n      <th>521</th>\n      <td>91</td>\n      <td>75.768041</td>\n      <td>15.231959</td>\n    </tr>\n    <tr>\n      <th>737</th>\n      <td>53</td>\n      <td>56.969466</td>\n      <td>-3.969466</td>\n    </tr>\n    <tr>\n      <th>740</th>\n      <td>80</td>\n      <td>77.722222</td>\n      <td>2.277778</td>\n    </tr>\n    <tr>\n      <th>660</th>\n      <td>74</td>\n      <td>77.686275</td>\n      <td>-3.686275</td>\n    </tr>\n    <tr>\n      <th>411</th>\n      <td>84</td>\n      <td>84.329787</td>\n      <td>-0.329787</td>\n    </tr>\n    <tr>\n      <th>...</th>\n      <td>...</td>\n      <td>...</td>\n      <td>...</td>\n    </tr>\n    <tr>\n      <th>408</th>\n      <td>52</td>\n      <td>48.107639</td>\n      <td>3.892361</td>\n    </tr>\n    <tr>\n      <th>332</th>\n      <td>62</td>\n      <td>56.073171</td>\n      <td>5.926829</td>\n    </tr>\n    <tr>\n      <th>208</th>\n      <td>74</td>\n      <td>67.917949</td>\n      <td>6.082051</td>\n    </tr>\n    <tr>\n      <th>613</th>\n      <td>65</td>\n      <td>67.917949</td>\n      <td>-2.917949</td>\n    </tr>\n    <tr>\n      <th>78</th>\n      <td>61</td>\n      <td>67.534483</td>\n      <td>-6.534483</td>\n    </tr>\n  </tbody>\n</table>\n<p>200 rows × 3 columns</p>\n</div>"
     },
     "execution_count": 22,
     "metadata": {},
     "output_type": "execute_result"
    }
   ],
   "source": [
    "# Create a DataFrame to compare actual and predicted values\n",
    "pred_df = pd.DataFrame({\n",
    "    'Actual Value': y_test,\n",
    "    'Predicted Value': y_preds_test,  # Replace 'y_preds_test' with the correct variable name\n",
    "    'Difference': y_test - y_preds_test  # Replace 'y_preds_test' with the correct variable name\n",
    "})\n",
    "\n",
    "# Display the DataFrame\n",
    "pred_df\n"
   ]
  },
  {
   "cell_type": "code",
   "execution_count": null,
   "id": "3acf1fbc",
   "metadata": {
    "ExecuteTime": {
     "end_time": "2024-01-15T20:06:43.725404800Z",
     "start_time": "2024-01-15T20:06:43.725404800Z"
    }
   },
   "outputs": [],
   "source": []
  }
 ],
 "metadata": {
  "kernelspec": {
   "display_name": "Python 3 (ipykernel)",
   "language": "python",
   "name": "python3"
  },
  "language_info": {
   "codemirror_mode": {
    "name": "ipython",
    "version": 3
   },
   "file_extension": ".py",
   "mimetype": "text/x-python",
   "name": "python",
   "nbconvert_exporter": "python",
   "pygments_lexer": "ipython3",
   "version": "3.8.0"
  }
 },
 "nbformat": 4,
 "nbformat_minor": 5
}
